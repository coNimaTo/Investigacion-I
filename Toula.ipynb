{
 "cells": [
  {
   "cell_type": "code",
   "execution_count": 1,
   "metadata": {},
   "outputs": [],
   "source": [
    "from math import *\n",
    "import matplotlib\n",
    "import matplotlib.pyplot as plt\n",
    "import numpy as np\n",
    "from scipy.integrate import solve_ivp\n",
    "\n",
    "matplotlib.rcParams['axes.labelsize'] = 15\n",
    "\n",
    "variables = [r\"$\\dot R$ [m/s]\", r\"$R$ [m]\", r\"$Temp$ [K]\"]\n",
    "\n",
    "def plotsol(t,y):\n",
    "    fig, ax = plt.subplots(len(y), 1, sharex= True, figsize = (8,5), dpi = 150, tight_layout = True)\n",
    "    \n",
    "    for i in range(len(y)):\n",
    "        ax[i].plot(t, y[i])\n",
    "        ax[i].set_ylabel(variables[i])\n",
    "    ax[-1].set_xlabel(\"$t$ [s]\")\n",
    "\n",
    "    # ax[1].set_ylim(bottom = 0)\n",
    "    ax[0].set(xlim = (t[0], t[-1]))\n",
    "    "
   ]
  },
  {
   "cell_type": "code",
   "execution_count": 2,
   "metadata": {},
   "outputs": [],
   "source": [
    "patm        = 98000     # Pascals\n",
    "T_amb       = 293       # Kelvin\n",
    "nR          = 800E-8   # n (moles) * R (cte gases)\n",
    "kb          = 1.38E-23 # KJ\n",
    "\n",
    "A           = 2\n",
    "w           = 2*pi * 1\n",
    "\n",
    "rho_agua    = 1000      # kg/m^3\n",
    "viscosidad  = 0.01      # Pa*s == kg/s\n",
    "s_sup       = 7.274E-2  # N/m"
   ]
  },
  {
   "cell_type": "code",
   "execution_count": 3,
   "metadata": {},
   "outputs": [],
   "source": [
    "def ps(t, w, d = 0):\n",
    "    return A * sin(t*w + d)   "
   ]
  },
  {
   "cell_type": "code",
   "execution_count": 4,
   "metadata": {},
   "outputs": [],
   "source": [
    "def fun(t,y):\n",
    "    vel, radi, temp = y\n",
    "    vDot =  -3/2 * vel*vel/radi + (\n",
    "            3/4 * nR * temp / (pi*np.power(radi,3))\n",
    "            - (2*s_sup + 4*viscosidad*vel)/radi\n",
    "            - patm #- ps(t, w)\n",
    "        ) /rho_agua\n",
    "    rDot = vel\n",
    "    tDot = - 2 * nR * temp * vel/(kb * radi)\n",
    "\n",
    "    return vDot,rDot,tDot  "
   ]
  },
  {
   "cell_type": "code",
   "execution_count": null,
   "metadata": {},
   "outputs": [],
   "source": [
    "y0 = [0, 50E-4, T_amb] # m/s , m, Kelvin\n",
    "sol = solve_ivp(fun, (0., .000002), y0, max_step = 1E-4, rtol = 1E-8)\n",
    "print(sol.message)\n",
    "plotsol(sol.t,sol.y)"
   ]
  }
 ],
 "metadata": {
  "kernelspec": {
   "display_name": "Inv1",
   "language": "python",
   "name": "python3"
  },
  "language_info": {
   "codemirror_mode": {
    "name": "ipython",
    "version": 3
   },
   "file_extension": ".py",
   "mimetype": "text/x-python",
   "name": "python",
   "nbconvert_exporter": "python",
   "pygments_lexer": "ipython3",
   "version": "3.13.2"
  }
 },
 "nbformat": 4,
 "nbformat_minor": 2
}
