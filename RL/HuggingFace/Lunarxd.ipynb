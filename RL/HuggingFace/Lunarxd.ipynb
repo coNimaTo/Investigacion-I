{
 "cells": [
  {
   "cell_type": "code",
   "execution_count": null,
   "metadata": {},
   "outputs": [],
   "source": [
    "import gymnasium as gym\n",
    "import stable_baselines3 as sb\n",
    "from stable_baselines3.common.env_util import make_vec_env\n",
    "from stable_baselines3.common.evaluation import evaluate_policy\n",
    "from stable_baselines3.common.monitor import Monitor"
   ]
  },
  {
   "cell_type": "code",
   "execution_count": null,
   "metadata": {},
   "outputs": [],
   "source": [
    "env = gym.make(\"LunarLander-v2\")\n",
    "print(\"_____OBSERVATION SPACE_____\")\n",
    "# x, y, xDot, yDot, th, thDot, LeftLeg_on_ground?, RightLeg_on_ground?,\n",
    "print(\"Observation Space Shape\", env.observation_space.shape)\n",
    "print( \"_____ACTION SPACE_____\" ),\n",
    "print(\"Action Space Shape\", env.action_space.n)"
   ]
  },
  {
   "cell_type": "code",
   "execution_count": null,
   "metadata": {},
   "outputs": [],
   "source": [
    "save_dir = \"/tmp/gym\"\n",
    "env = make_vec_env(\"LunarLander-v2\", n_envs=16)\n",
    "render_env =  Monitor(gym.make(\"LunarLander-v2\", render_mode=\"human\"))\n",
    "eval_env = Monitor(gym.make(\"LunarLander-v2\"))\n",
    "# Instantiate the agent\n",
    "# model = sb.PPO('MlpPolicy', env)\n",
    "# model = sb.DQN('MlpPolicy', env)\n",
    "\n",
    "model = sb.PPO.load(save_dir + \"/LunarLanderV2_3E6_16envs\", env)\n",
    "# model = sb.PPO(\n",
    "#     policy=\"MlpPolicy\",\n",
    "#     env=env,\n",
    "#     n_steps=1024,\n",
    "#     batch_size=64,\n",
    "#     n_epochs=4,\n",
    "#     gamma=0.999,\n",
    "#     gae_lambda=0.98,\n",
    "#     ent_coef=0.01,\n",
    "#     verbose=1,\n",
    "# )"
   ]
  },
  {
   "cell_type": "code",
   "execution_count": null,
   "metadata": {},
   "outputs": [],
   "source": [
    "# Train the agent\n",
    "model.learn(total_timesteps=int(2e6))"
   ]
  },
  {
   "cell_type": "code",
   "execution_count": null,
   "metadata": {},
   "outputs": [],
   "source": [
    "while True:\n",
    "    obs, _ = render_env.reset() \n",
    "\n",
    "    for i in range(1500):\n",
    "        action, _ = model.predict(obs, deterministic=True)\n",
    "        obs, reward, terminated, truncated, info = render_env.step(action)\n",
    "        # render_env.render()\n",
    "        if terminated or truncated:\n",
    "            # Note that the VecEnv resets automatically\n",
    "            # when a done signal is encountered\n",
    "            print(i+1, info)\n",
    "            break\n",
    "    print(i+1, info)"
   ]
  },
  {
   "cell_type": "code",
   "execution_count": null,
   "metadata": {},
   "outputs": [],
   "source": [
    "eval_env = Monitor(gym.make(\"LunarLander-v2\"))\n",
    "mean_reward, std_reward = evaluate_policy(model, eval_env, n_eval_episodes=100, deterministic=True)\n",
    "print(f\"mean_reward={mean_reward:.2f} +/- {std_reward}\")"
   ]
  },
  {
   "cell_type": "code",
   "execution_count": null,
   "metadata": {},
   "outputs": [],
   "source": [
    "model.save(save_dir + \"LunarLanderV2_3E6_16envs\")"
   ]
  }
 ],
 "metadata": {
  "kernelspec": {
   "display_name": "Inv1",
   "language": "python",
   "name": "python3"
  },
  "language_info": {
   "codemirror_mode": {
    "name": "ipython",
    "version": 3
   },
   "file_extension": ".py",
   "mimetype": "text/x-python",
   "name": "python",
   "nbconvert_exporter": "python",
   "pygments_lexer": "ipython3",
   "version": "3.13.1"
  }
 },
 "nbformat": 4,
 "nbformat_minor": 2
}
