{
 "cells": [
  {
   "cell_type": "code",
   "execution_count": 1,
   "metadata": {},
   "outputs": [
    {
     "name": "stdout",
     "output_type": "stream",
     "text": [
      "pygame 2.6.1 (SDL 2.30.10, Python 3.13.1)\n",
      "Hello from the pygame community. https://www.pygame.org/contribute.html\n"
     ]
    },
    {
     "name": "stderr",
     "output_type": "stream",
     "text": [
      "<frozen importlib._bootstrap>:488: RuntimeWarning: Your system is avx2 capable but pygame was not built with support for it. The performance of some of your blits could be adversely affected. Consider enabling compile time detection with environment variables like PYGAME_DETECT_AVX2=1 if you are compiling without cross compilation.\n"
     ]
    }
   ],
   "source": [
    "import matplotlib.pyplot as plt\n",
    "import numpy as np\n",
    "\n",
    "import pygame\n",
    "import pygame.font\n",
    "\n",
    "BLACK = (0  ,0  ,0  )\n",
    "WHITE = (255,255,255)\n",
    "GREEN = (0  ,150,40 )"
   ]
  },
  {
   "cell_type": "code",
   "execution_count": 2,
   "metadata": {},
   "outputs": [],
   "source": [
    "def RK4(fun, x, dt, t = 0, a = 0):\n",
    "\n",
    "    k1 = fun(t,      x,         a)\n",
    "    k2 = fun(t+dt/2, x+dt*k1/2, a)\n",
    "    k3 = fun(t+dt/2, x+dt*k2/2, a)\n",
    "    k4 = fun(t+dt,   x+dt*k3,   a)\n",
    "\n",
    "    y = x + dt/6*(k1+2*k2+2*k3+k4)\n",
    "    return y"
   ]
  },
  {
   "cell_type": "code",
   "execution_count": 3,
   "metadata": {},
   "outputs": [],
   "source": [
    "l   = 200\n",
    "g   = 980\n",
    "gamma = .1\n",
    "gammath = .1\n",
    "\n",
    "cart_size = [40,20]\n",
    "cart_pos  = [400-20,300-10]\n",
    "\n",
    "rail_height = cart_pos[1]+cart_size[1]/2\n",
    "\n",
    "def cart_evol(t, x, a = 0):\n",
    "    vDot = a - gamma * x[1]\n",
    "    xDot = x[1]\n",
    "    return np.array([xDot, vDot])\n",
    "\n",
    "def pend_evol(t, x, a = 0):\n",
    "    thDotDot = (a * np.cos(x[0]) - g * np.sin(x[0]))/l - gammath * x[1]\n",
    "    thDot    = x[1]\n",
    "    return np.array([thDot, thDotDot])\n",
    "\n",
    "def get_pos_pend(ang, point, L):\n",
    "    return point[0] - L*np.sin(ang), point[1] + L*np.cos(ang)\n",
    "\n",
    "def draw_player(screen, cart, pend_pos):\n",
    "    pygame.draw.line(screen, BLACK,\n",
    "                    cart.center, pend_pos,\n",
    "                    width = 6)\n",
    "    pygame.draw.rect(screen, WHITE, cart)\n",
    "    pygame.draw.rect(screen, BLACK, cart, 4)\n",
    "    pygame.draw.circle(screen, WHITE, pend_pos, 20)\n",
    "    pygame.draw.circle(screen, BLACK, pend_pos, 20, 5)\n",
    "\n",
    "def update_screen(screen, cart, th,dt):\n",
    "    screen.fill((255,255,255))\n",
    "\n",
    "    pend_pos  = get_pos_pend(th, cart.center, l)\n",
    "\n",
    "    global target_H, score\n",
    "    if target_H:\n",
    "        pygame.draw.line(screen, GREEN, (0,target_H), (1600,target_H), 6)\n",
    "        if pend_pos[1] < target_H:\n",
    "            score += dt\n",
    "    pygame.draw.line(screen, BLACK, (100, rail_height-30), (100, rail_height+30), 4)\n",
    "    pygame.draw.line(screen, BLACK, (100, rail_height), (1440, rail_height), 4)\n",
    "    pygame.draw.line(screen, BLACK, (1440, rail_height-30), (1440, rail_height+30), 4)\n",
    "    draw_player(screen, cart, pend_pos)\n",
    "    "
   ]
  },
  {
   "cell_type": "code",
   "execution_count": 5,
   "metadata": {},
   "outputs": [
    {
     "name": "stdout",
     "output_type": "stream",
     "text": [
      "3.523999999999985\n"
     ]
    }
   ],
   "source": [
    "target_th = 2.5\n",
    "target_H = get_pos_pend(target_th, cart_pos, l)[1]\n",
    "\n",
    "thvlist = []\n",
    "\n",
    "th, thDot  = 0, 0\n",
    "a, v, x = 0, 0, cart_pos[0]\n",
    "# Añado esto para poder tratar mejor las colisiones en los bordes\n",
    "a_pend = a\n",
    "\n",
    "score = 0\n",
    "\n",
    "pygame.init()\n",
    "pygame.font.init()\n",
    "\n",
    "screen = pygame.display.set_mode((1500,600))\n",
    "clock  = pygame.time.Clock()\n",
    "player = pygame.Rect(cart_pos+cart_size)\n",
    "\n",
    "my_font = pygame.font.SysFont('Comic Sans MS', 50)\n",
    "\n",
    "pend_pos = get_pos_pend(th, player.center, l)\n",
    "dt = clock.tick()\n",
    "\n",
    "time = 0\n",
    "while time < 20:\n",
    "  \n",
    "  time = pygame.time.get_ticks()/1000\n",
    "  dt = clock.tick(120)/1000 # Por los milisecs\n",
    "  \n",
    "  if player.x < 100:\n",
    "    x, a = 100, -v/dt * .2\n",
    "    a_pend = -v/dt * 1.2\n",
    "    v = 0\n",
    "  elif player.x > 1400:\n",
    "    x, a = 1400, -v/dt * .2\n",
    "    a_pend = -v/dt * 1.2\n",
    "    v = 0\n",
    "  \n",
    "  x, v = RK4(cart_evol, [x, v], dt, a = a)\n",
    "  th, thDot = RK4(pend_evol, [th, thDot], dt, a = a_pend)\n",
    "  player.move_ip(x-player.x, 0)\n",
    "\n",
    "  update_screen(screen, player, th,dt)\n",
    "  # time and fps'{:-9} YES votes  {:2.2%}'.format(yes_votes, percentage)\n",
    "  screen.blit(my_font.render(\"TIME: %.1f\"%(time), False, BLACK), (100,100))\n",
    "  screen.blit(my_font.render(\"SCORE: %.1f\"%(score), False, GREEN), (100,50))\n",
    "  #screen.blit(my_font.render(\"FPS: %i\"%(clock.get_fps()), False, BLACK), (100,150))\n",
    "  screen.blit(my_font.render(\"dt [ms]: %i\"%(dt*1000), False, BLACK), (100,150))\n",
    "\n",
    "  key = pygame.key.get_pressed()\n",
    "  if key[pygame.K_a] == True:\n",
    "    a = -1000\n",
    "  elif key[pygame.K_d] == True:\n",
    "    a = 1000\n",
    "  else:\n",
    "    a = 0\n",
    "  a_pend = a\n",
    "  \n",
    "  for event in pygame.event.get():\n",
    "    if event.type == pygame.QUIT:\n",
    "      pygame.quit()\n",
    "      continue\n",
    "  \n",
    "  thvlist.append(thDot)\n",
    "\n",
    "  pygame.display.update()\n",
    "\n",
    "pygame.quit()\n",
    "print(score)"
   ]
  },
  {
   "cell_type": "code",
   "execution_count": 6,
   "metadata": {},
   "outputs": [
    {
     "data": {
      "text/plain": [
       "[<matplotlib.lines.Line2D at 0x26d4e4bac10>]"
      ]
     },
     "execution_count": 6,
     "metadata": {},
     "output_type": "execute_result"
    },
    {
     "data": {
      "image/png": "[encoded data removed]",
      "text/plain": [
       "<Figure size 640x480 with 1 Axes>"
      ]
     },
     "metadata": {},
     "output_type": "display_data"
    }
   ],
   "source": [
    "plt.plot(thvlist)"
   ]
  },
  {
   "cell_type": "markdown",
   "metadata": {},
   "source": [
    "# Testing"
   ]
  },
  {
   "cell_type": "code",
   "execution_count": null,
   "metadata": {},
   "outputs": [],
   "source": [
    "l = 1\n",
    "g = 9.8"
   ]
  },
  {
   "cell_type": "code",
   "execution_count": null,
   "metadata": {},
   "outputs": [],
   "source": [
    "def fun(t, x, a_ext = 0):\n",
    "    thDotDot = (a_ext * np.cos(x[0]) - g * np.sin(x[0]))/l\n",
    "    thDot    = x[1]\n",
    "    return np.array([thDot, thDotDot])\n",
    "\n",
    "def RK4(fun, x, dt, t = 0, a = 0):\n",
    "\n",
    "    k1 = fun(t,      x,         a)\n",
    "    k2 = fun(t+dt/2, x+dt*k1/2, a)\n",
    "    k3 = fun(t+dt/2, x+dt*k2/2, a)\n",
    "    k4 = fun(t+dt,   x+dt*k3,   a)\n",
    "\n",
    "    y = x + dt/6*(k1+2*k2+2*k3+k4)\n",
    "    return y"
   ]
  },
  {
   "cell_type": "code",
   "execution_count": null,
   "metadata": {},
   "outputs": [],
   "source": [
    "delta_t = 1E-3\n",
    "steps   = int(1e4)\n",
    "\n",
    "x1 = np.zeros(steps)\n",
    "x2 = np.zeros(steps)\n",
    "\n",
    "x1[0], x2[0] = 1, 0\n",
    "\n",
    "for step in range(1, steps):\n",
    "    x1[step], x2[step] = RK4(cart_evol, [x1[step-1], x2[step-1]], delta_t, a = 20)\n",
    "\n",
    "plt.plot(x1)\n",
    "#plt.plot(x2)"
   ]
  }
 ],
 "metadata": {
  "kernelspec": {
   "display_name": "Inv1",
   "language": "python",
   "name": "python3"
  },
  "language_info": {
   "codemirror_mode": {
    "name": "ipython",
    "version": 3
   },
   "file_extension": ".py",
   "mimetype": "text/x-python",
   "name": "python",
   "nbconvert_exporter": "python",
   "pygments_lexer": "ipython3",
   "version": "3.13.1"
  }
 },
 "nbformat": 4,
 "nbformat_minor": 2
}
