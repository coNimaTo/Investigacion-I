{
 "cells": [
  {
   "cell_type": "code",
   "execution_count": 1,
   "metadata": {},
   "outputs": [],
   "source": [
    "import matplotlib.pyplot as plt\n",
    "import numpy as np\n",
    "import pandas as pd\n",
    "import time\n",
    "\n",
    "import gymnasium as gym\n",
    "from gymnasium import spaces\n",
    "import stable_baselines3 as sb\n",
    "\n",
    "# from stable_baselines3.common.evaluation import evaluate_policy\n",
    "from stable_baselines3.common.env_util import make_vec_env\n",
    "# from stable_baselines3.common.vec_env import DummyVecEnv, SubprocVecEnv\n",
    "from stable_baselines3.common.env_checker import check_env"
   ]
  },
  {
   "cell_type": "code",
   "execution_count": 25,
   "metadata": {},
   "outputs": [],
   "source": [
    "def RK4(fun, x, dt, t = 0, a = 0):\n",
    "\n",
    "    k1 = fun(t,      x,         a)\n",
    "    k2 = fun(t+dt/2, x+dt*k1/2, a)\n",
    "    k3 = fun(t+dt/2, x+dt*k2/2, a)\n",
    "    k4 = fun(t+dt,   x+dt*k3,   a)\n",
    "\n",
    "    y = x + dt/6*(k1+2*k2+2*k3+k4)\n",
    "    return y\n",
    "\n",
    "# Todo esto deberia ir dentro del Env eventualmente\n",
    "\n",
    "gamma     = .1\n",
    "gammath   = .1\n",
    "L     = .2\n",
    "G     = .98\n",
    "\n",
    "def cart_evol(t, x, a = 0):\n",
    "    vDot = a - gamma * x[1]\n",
    "    xDot = x[1]\n",
    "    return np.array([xDot, vDot])\n",
    "\n",
    "def pend_evol(t, x, a = 0):\n",
    "    thDotDot = (a * np.cos(x[0]) - G * np.sin(x[0]))/L - gammath * x[1]\n",
    "    thDot    = x[1]\n",
    "    return np.array([thDot, thDotDot])\n",
    "\n",
    "def get_pos_pend(ang, x, L):\n",
    "    return x - L*np.sin(ang), L*np.cos(ang)\n",
    "\n",
    "def observations(x,th,xDot,thDot):\n",
    "    return np.array([x, np.cos(th), np.sin(th), xDot/2, thDot/20]).astype(np.float32)\n",
    "\n",
    "#-------------------------\n",
    "\n",
    "class Pendulo(gym.Env):\n",
    "    \"\"\"\n",
    "    Custom Environment that follows gym interface.\n",
    "    This is a simple env where the agent must learn to go always left. \n",
    "    \"\"\"\n",
    "    # Because of google colab, we cannot implement the GUI ('human' render mode)\n",
    "    metadata = {'render.modes': ['data']}\n",
    "    # Define constants for clearer code\n",
    "    # Distancias en mm?\n",
    "\n",
    "    def __init__(self, fps = 120, target_th = 1, max_steps = 2000, render_mode = 'data'):\n",
    "        super(Pendulo, self).__init__()\n",
    "\n",
    "        # Size of the 1D-grid\n",
    "        self.rail_lengh = 1\n",
    "\n",
    "        # (x,th), (xDot,thDot)\n",
    "        self.agent_vars = np.array(((0.,np.pi+np.random.normal(0,.1)),(0.,0.)))\n",
    "\n",
    "        # variables de tiempo\n",
    "        self.n_step = 0\n",
    "        self.max_steps = max_steps\n",
    "        self.dt      = 1/fps # timestep en seg\n",
    "\n",
    "        # threshold del reward\n",
    "        self.targetH = np.cos(target_th)\n",
    "\n",
    "        # Define action and observation space\n",
    "        # They must be gym.spaces objects\n",
    "        # Example when using discrete actions, we have 3: left, right and still\n",
    "        self.n_actions = 3\n",
    "        self.action_space = spaces.Discrete(self.n_actions)\n",
    "        # The observation will be the coordinate of the agent\n",
    "        # (x, v, cos th, sin th, thDot)\n",
    "        # elijo pasarle seno y coseno enves del angulo xq quedan en [-1,1]\n",
    "        # y no tienen el problema de discontinuidad de th en [-pi,pi]\n",
    "        self.observation_space = spaces.Box(low = -1, high = 1,\n",
    "                                            shape=(5,), dtype=np.float32)\n",
    "        \n",
    "        self.render_mode = render_mode\n",
    "        with open(\"output.txt\", \"w\") as f:\n",
    "            f.write(\"x\\tcos(th)\\tsin(th)\\tv\\tthDot\\t\\n\")\n",
    "\n",
    "    def reset(self, seed = None,):\n",
    "        \"\"\"\n",
    "        Important: the observation must be a numpy array\n",
    "        :return: (np.array) \n",
    "        \"\"\"\n",
    "        super().reset(seed=seed)\n",
    "        # with open(\"output.txt\", \"w\") as f:\n",
    "        #     f.write(\"x\\tcos(th)\\tsin(th)\\tv\\tthDot\\t\\n\")\n",
    "        # Initialize the agent at the right of the grid\n",
    "        self.agent_vars = np.array(((0.,np.pi+np.random.normal(0,.1)),(0.,0.)))\n",
    "        # here we convert to float32 to make it more general (in case we want to use continuous actions)\n",
    "        return observations(*np.ravel(self.agent_vars)), {}\n",
    "\n",
    "    def step(self, action):\n",
    "\n",
    "        x,th = self.agent_vars[0]\n",
    "        v,thDot = self.agent_vars[1]\n",
    "\n",
    "        if action > self.n_actions:\n",
    "            raise ValueError(\"Received invalid action={} which is not part of the action space\".format(action))\n",
    "        elif abs(x) > 1:\n",
    "            # x = np.clip(x, -1, 1)\n",
    "            # a = -v/self.dt * .2\n",
    "            # thDotDot = -v/self.dt * 1.2\n",
    "            # v = 0\n",
    "            return observations(*np.ravel(self.agent_vars)),\\\n",
    "                -10, True, False, {\"Crashed\" : True}\n",
    "        else:\n",
    "            thDotDot = a = action - 1\n",
    "\n",
    "        x, v = RK4(cart_evol, [x, v], self.dt, a = a)\n",
    "        th, thDot = RK4(pend_evol, [th, thDot], self.dt, a = thDotDot)\n",
    "\n",
    "        # print(x,v,th,thDot)\n",
    "\n",
    "        self.agent_vars = np.array(((x,th),(v,thDot)))\n",
    "        \n",
    "        if self.n_step >= 1500:\n",
    "            truncated = True\n",
    "        else: truncated = False\n",
    "        # Null reward everywhere except when reaching the goal (left of the grid)\n",
    "        # reward = 1 if np.cos(th) < self.targetH else -1\n",
    "        reward = -np.cos(th)/(1+3*abs(x))\n",
    "        # Optionally we can pass additional info, we are not using that for now\n",
    "        info = {}\n",
    "\n",
    "        return observations(*np.ravel(self.agent_vars)),\\\n",
    "                reward, False, truncated, info\n",
    "\n",
    "    def render(self):\n",
    "        if self.render_mode == 'data':\n",
    "            # agent is represented as a cross, rest as a dot\n",
    "            data = observations(*np.ravel(self.agent_vars))\n",
    "            with open(\"output.txt\", \"a\") as f:\n",
    "                for var in data:\n",
    "                    f.write(str(var))\n",
    "                    f.write(\"\\t\")\n",
    "                f.write(\"\\n\")\n",
    "        else:\n",
    "            raise NotImplementedError()\n",
    "\n",
    "    def close(self):\n",
    "        pass"
   ]
  },
  {
   "cell_type": "code",
   "execution_count": 26,
   "metadata": {},
   "outputs": [],
   "source": [
    "env = Pendulo()\n",
    "# If the environment don't follow the interface, an error will be thrown\n",
    "check_env(env, warn=True)"
   ]
  },
  {
   "cell_type": "code",
   "execution_count": 27,
   "metadata": {},
   "outputs": [
    {
     "name": "stderr",
     "output_type": "stream",
     "text": [
      "c:\\ProgramData\\anaconda3\\envs\\Inv1\\Lib\\site-packages\\gymnasium\\envs\\registration.py:693: UserWarning: \u001b[33mWARN: Overriding environment Pendulo already in registry.\u001b[0m\n",
      "  logger.warn(f\"Overriding environment {new_spec.id} already in registry.\")\n"
     ]
    }
   ],
   "source": [
    "gym.register(\n",
    "    id=\"Pendulo\",\n",
    "    entry_point=Pendulo,\n",
    ")\n",
    "# wrap it\n",
    "single_env = Pendulo(render_mode = \"data\", target_th = 2.5)\n",
    "multi_env = make_vec_env(Pendulo , n_envs = 2)\n",
    "\n",
    "model = sb.PPO('MlpPolicy', env)"
   ]
  },
  {
   "cell_type": "code",
   "execution_count": 57,
   "metadata": {},
   "outputs": [
    {
     "data": {
      "text/plain": [
       "<stable_baselines3.ppo.ppo.PPO at 0x1eccf0dac10>"
      ]
     },
     "execution_count": 57,
     "metadata": {},
     "output_type": "execute_result"
    }
   ],
   "source": [
    "model.learn(500000)"
   ]
  },
  {
   "cell_type": "code",
   "execution_count": null,
   "metadata": {},
   "outputs": [],
   "source": [
    "save_dir = \"/tmp/gym/\"\n",
    "model.save(save_dir + \"/Pendulum_PPO_5E6Iterations_2envs\")"
   ]
  },
  {
   "cell_type": "code",
   "execution_count": 58,
   "metadata": {},
   "outputs": [],
   "source": [
    "# Test the trained agent\n",
    "obs, _ = single_env.reset()\n",
    "\n",
    "n_steps = 1000\n",
    "for step in range(n_steps):\n",
    "  action, _ = model.predict(obs, deterministic=True)\n",
    "  obs, reward, terminated, truncated, info = single_env.step(action)\n",
    "  single_env.render()\n",
    "  #print(\"Step {}\".format(step + 1), \"\\t\", \"Action: \", action, \"\\t\", \"reward=\", reward)\n",
    "  if terminated or truncated:\n",
    "    # Note that the VecEnv resets automatically\n",
    "    # when a done signal is encountered\n",
    "    print(step+1, info)\n",
    "    break"
   ]
  },
  {
   "cell_type": "code",
   "execution_count": 59,
   "metadata": {},
   "outputs": [
    {
     "data": {
      "text/plain": [
       "[<matplotlib.lines.Line2D at 0x1ece906ead0>]"
      ]
     },
     "execution_count": 59,
     "metadata": {},
     "output_type": "execute_result"
    },
    {
     "data": {
      "image/png": "[encoded data removed]",
      "text/plain": [
       "<Figure size 640x480 with 4 Axes>"
      ]
     },
     "metadata": {},
     "output_type": "display_data"
    }
   ],
   "source": [
    "data = pd.read_table(\"output.txt\")\n",
    "x, costh, sinth, v, thDot = data[\"x\"],data[\"cos(th)\"],data[\"sin(th)\"],data[\"v\"],data[\"thDot\"],\n",
    "\n",
    "fig, ax = plt.subplots(2,2)\n",
    "\n",
    "ax[0,0].plot(x)\n",
    "ax[0,1].plot(x - .2*sinth, - .2*costh)\n",
    "ax[1,0].plot(v)\n",
    "ax[1,1].plot(thDot)"
   ]
  },
  {
   "cell_type": "code",
   "execution_count": 60,
   "metadata": {},
   "outputs": [
    {
     "data": {
      "image/png": "[encoded data removed]",
      "text/plain": [
       "<Figure size 640x480 with 1 Axes>"
      ]
     },
     "metadata": {},
     "output_type": "display_data"
    }
   ],
   "source": [
    "import numpy as np\n",
    "import matplotlib.pyplot as plt\n",
    "from matplotlib import cm\n",
    "import matplotlib.collections as mcoll\n",
    "import matplotlib.path as mpath\n",
    "from cycler import cycler\n",
    "\n",
    "xx = x - .2*sinth\n",
    "yy = - .2*costh\n",
    "\n",
    "MAP = 'jet'\n",
    "NPOINTS = len(xx)\n",
    "\n",
    "fig = plt.figure()\n",
    "ax1 = fig.add_subplot(111)\n",
    "ax1.set(xlim = (-1,1), ylim = (-.25,.25))\n",
    "cm = plt.get_cmap(MAP)\n",
    "for i in range(10):\n",
    "    colors = [cm(1.0*i/(NPOINTS-1)) for i in range(NPOINTS-1)]\n",
    "    ax1.set_prop_cycle(cycler('color', colors))\n",
    "    for i in range(NPOINTS-1):\n",
    "        plt.plot(xx[i:i+2],yy[i:i+2])\n",
    "\n",
    "# plt.title('Inner minimization', fontsize=25)\n",
    "# plt.xlabel(r'Friction torque $[Nm]$', fontsize=25)\n",
    "# plt.ylabel(r'Accelerations energy $[\\frac{Nm}{s^2}]$', fontsize=25)\n",
    "plt.show() # Show the figure"
   ]
  },
  {
   "cell_type": "code",
   "execution_count": 61,
   "metadata": {},
   "outputs": [
    {
     "data": {
      "image/png": "[encoded data removed]",
      "text/plain": [
       "<Figure size 600x300 with 1 Axes>"
      ]
     },
     "metadata": {},
     "output_type": "display_data"
    }
   ],
   "source": [
    "from matplotlib import animation\n",
    "\n",
    "fig, ax = plt.subplots(figsize = (6,3), dpi = 100)\n",
    "\n",
    "x1 = x\n",
    "zz = np.zeros(len(x))\n",
    "xx = x - .2*sinth\n",
    "yy = - .2*costh\n",
    "\n",
    "# x1 = np.array(x1[::10])\n",
    "# zz = np.array(zz[::10])\n",
    "# xx = np.array(xx[::10])\n",
    "# yy = np.array(yy[::10])\n",
    "\n",
    "rail = ax.plot([-1,1],[0,0], \"k\")[0]\n",
    "line = ax.plot([xx[0],x[0]],[yy[0],zz[0]], \"k:\")[0]\n",
    "\n",
    "scat = ax.scatter(xx[0], yy[0], c=\"b\", s=25)\n",
    "scat2 = ax.scatter(x[0], zz[0], c=\"k\", s=25)\n",
    "\n",
    "ax.set(xlim=[-1, 1], ylim=[-.5, .5], xticks=[], yticks=[])\n",
    "\n",
    "\n",
    "def update(frame):\n",
    "    # for each frame, update the data stored on each artist.\n",
    "    x = x1[frame]\n",
    "    z = zz[frame]\n",
    "    X = xx[frame]\n",
    "    Y = yy[frame]\n",
    "    # update the scatter plot:\n",
    "    data = np.stack([X, Y]).T\n",
    "    data2 = np.stack([x, z]).T\n",
    "    scat.set_offsets(data)\n",
    "    scat2.set_offsets(data2)\n",
    "    # update the line plot:\n",
    "    line.set_xdata([x,X])\n",
    "    line.set_ydata([z,Y])\n",
    "    return (line, scat)\n",
    "\n",
    "\n",
    "ani = animation.FuncAnimation(fig=fig, func=update, frames = len(x1))\n",
    "ani.save(\"mov.mp4\", fps = 120)"
   ]
  },
  {
   "cell_type": "code",
   "execution_count": null,
   "metadata": {},
   "outputs": [],
   "source": []
  }
 ],
 "metadata": {
  "kernelspec": {
   "display_name": "Inv1",
   "language": "python",
   "name": "python3"
  },
  "language_info": {
   "codemirror_mode": {
    "name": "ipython",
    "version": 3
   },
   "file_extension": ".py",
   "mimetype": "text/x-python",
   "name": "python",
   "nbconvert_exporter": "python",
   "pygments_lexer": "ipython3",
   "version": "3.13.1"
  }
 },
 "nbformat": 4,
 "nbformat_minor": 2
}
