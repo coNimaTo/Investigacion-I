{
 "cells": [
  {
   "cell_type": "code",
   "execution_count": 1,
   "metadata": {},
   "outputs": [],
   "source": [
    "import matplotlib\n",
    "import matplotlib.pyplot as plt\n",
    "# import pandas as pd\n",
    "\n",
    "import numpy as np\n",
    "from scipy.integrate import solve_ivp\n",
    "import time\n",
    "\n",
    "import gymnasium as gym\n",
    "from gymnasium import spaces\n",
    "import stable_baselines3 as sb\n",
    "\n",
    "from stable_baselines3.common.evaluation import evaluate_policy\n",
    "from stable_baselines3.common.env_util import make_vec_env\n",
    "# from stable_baselines3.common.vec_env import DummyVecEnv, SubprocVecEnv\n",
    "from stable_baselines3.common.env_checker import check_env"
   ]
  },
  {
   "cell_type": "code",
   "execution_count": 2,
   "metadata": {},
   "outputs": [],
   "source": [
    "patm        = 98000     # Pascals\n",
    "T_amb       = 293       # Kelvin\n",
    "# nR          = 800e-8   # n (moles) * R (cte gases)\n",
    "N           = 6e15      # Num Particulas\n",
    "kb          = 1.38e-23  # J/K\n",
    "\n",
    "rho_agua    = 1000      # kg/m^3\n",
    "viscosidad  = 0.001      # Pa*s == kg/s\n",
    "s_sup       = 7e-2  # N/m\n",
    "\n",
    "# Presion acustica como la suma de varias ondas\n",
    "def ps(t, A, w, d = 0):\n",
    "    # Error Handling es mi pasion\n",
    "    assert len(A) == len(w) == len(d), \"Different shapes\"\n",
    "    r = 0\n",
    "    for i in range(len(A)):\n",
    "        r += A[i] * np.sin(t*w[i] + d[i])  \n",
    "    return r\n",
    "\"\"\"\n",
    "Probablemente sea importante, cambie el orden de las cosas\n",
    "(RDot,R,T) ==> (R,RDot,T) \n",
    "\"\"\"\n",
    "# DiffEqs\n",
    "def fun(t, y, ps_args):\n",
    "    radi, vel, temp = y\n",
    "    vDot = (\n",
    "                - 3/2 * np.power(vel,2)\n",
    "                + (\n",
    "                    3/4 * N*kb*temp/(np.pi*np.power(radi,3))\n",
    "                    - (2*s_sup+4*viscosidad*vel)/radi\n",
    "                    - patm\n",
    "                    - ps(t, *ps_args)\n",
    "                )/rho_agua\n",
    "            )/radi\n",
    "    rDot = vel\n",
    "    tDot = - 2 * temp * vel/radi\n",
    "\n",
    "    return rDot, vDot, tDot   "
   ]
  },
  {
   "cell_type": "code",
   "execution_count": 3,
   "metadata": {},
   "outputs": [],
   "source": [
    "'''\n",
    "Normalized (as much as I can) observations\n",
    "El observation space lo voy a hacer un poco mas grande para q tenga margen\n",
    "    Radio always positive in the 1e-3 order  ==>  *100 to scale up\n",
    "    Vel has high range ==> /1000 to scale down a little\n",
    "    Temp in logaritmic scale ==> between ~0 and 7\n",
    "'''\n",
    "def observations(R,RDot,T):\n",
    "    return np.array([R*100, RDot/1000, np.log10(T)]).astype(np.float32)"
   ]
  },
  {
   "cell_type": "code",
   "execution_count": 12,
   "metadata": {},
   "outputs": [],
   "source": [
    "class Bubble(gym.Env):\n",
    "    \"\"\"\n",
    "    Custom Environment that follows gym interface.\n",
    "    This is a simple env where the agent must learn to go always left. \n",
    "    \"\"\"\n",
    "    metadata = {'render.modes': ['data','plot']}\n",
    "\n",
    "    def __init__(self, time_limit = 0.1, dt = 1e-5, n_ondas = 1, render_mode = None):\n",
    "        super(Bubble, self).__init__()   \n",
    "\n",
    "        # (R,RDot,T)\n",
    "        self.agent_vars = (np.clip(np.random.normal(1e-3, 1e-4), 0,     1),\n",
    "                           np.clip(np.random.normal(0,1)       , -1e3,  1e3),\n",
    "                           np.clip(np.random.normal(T_amb, 10), 250,    350))\n",
    "\n",
    "        # variables de tiempo\n",
    "        self.time_limit = time_limit\n",
    "        self.t  = 0\n",
    "        self.dt = dt  # timestep en seg\n",
    "\n",
    "        '''\n",
    "        Actions: cambios de Amplitud,frecuencia y fase\n",
    "        - van a ir entre 0 y 1, dsp en el step les hago el correcto escaleo\n",
    "        '''\n",
    "        self.action_space = spaces.Box(low = 0, high = 1,\n",
    "                                        shape=(3, n_ondas), dtype=np.float32)\n",
    "        self.n_ondas = n_ondas\n",
    "        '''\n",
    "        Observations: Basicamente R,RDot,T\n",
    "        - Si hago los cambios de a pasos tendria que añadir los valores actuales de A,w,d\n",
    "        '''\n",
    "        self.observation_space = spaces.Box(low = np.array((0,-100,0)),\n",
    "                                            high = np.array((10, 100,10)),\n",
    "                                            shape=(3,), dtype=np.float32)\n",
    "        \n",
    "        '''\n",
    "        Render init Cosas\n",
    "        '''\n",
    "        self.render_mode = render_mode\n",
    "        if render_mode != None:\n",
    "            self.data = {\"t\":np.array([]),\n",
    "                        \"y\":np.array([[],[],[]]),\n",
    "                        \"actions\":np.array([[[0]*n_ondas,[0]*n_ondas,[0]*n_ondas]])}\n",
    "\n",
    "\n",
    "    def reset(self, seed = 0):\n",
    "        super().reset(seed=seed)\n",
    "\n",
    "        # Nuevas Cond Iniciales\n",
    "        self.agent_vars = (np.clip(np.random.normal(1e-3, 1e-4), 0,     1),\n",
    "                           np.clip(np.random.normal(0,1)       , -1e3,  1e3),\n",
    "                           np.clip(np.random.normal(T_amb, 10), 250,    350))\n",
    "        # Render reset cosas\n",
    "        if self.render_mode != None:\n",
    "            self.data = {\"t\":np.array([]),\n",
    "                        \"y\":np.array([[],[],[]]),\n",
    "                        \"actions\":np.array([[[0]*self.n_ondas,[0]*self.n_ondas,[0]*self.n_ondas]])}\n",
    "        \n",
    "        return observations(*np.ravel(self.agent_vars)), {}\n",
    "    \n",
    "    def step(self, action):\n",
    "\n",
    "        # Check action range (if stepped) ----------------------------------- ARAARA\n",
    "        if any([(a>1)or(a<0) for a in np.ravel(action)]):\n",
    "            raise ValueError(\"Received invalid action={} which is not part of the action space\".format(action))\n",
    "        else:\n",
    "            A = action[0] * (20*patm)\n",
    "            w = action[1] * (np.pi * 2e6)\n",
    "            d = action[2] * (2*np.pi)\n",
    "            # print(A,'\\n',w,'\\n',d)\n",
    "\n",
    "        sol = solve_ivp(fun, (self.t, self.t + self.dt), \n",
    "                        self.agent_vars, args = [[A,w,d]]\n",
    "                        , max_step = self.dt/10, rtol = 1e-12)\n",
    "        \n",
    "        # Error Handling es mi pasion\n",
    "        if not sol[\"success\"]:\n",
    "            print(\"Has been a problem with solve_ivp\")\n",
    "            print(sol[\"message\"])\n",
    "            return\n",
    "\n",
    "        # La AI solo necesita el ultimo dato pero esta todo por si se quisiera graficar\n",
    "        self.agent_vars = sol.y[:,-1] \n",
    "        # time++\n",
    "        self.t += self.dt\n",
    "\n",
    "        if self.render_mode != None:\n",
    "            self.data['t'] = np.concatenate((self.data['t'],sol.t))\n",
    "            self.data['y'] = np.concatenate((self.data['y'],sol.y), 1)\n",
    "            self.data['actions'] = np.concatenate((self.data['actions'],[[A,w,d]]))\n",
    "        \n",
    "        ''' [ ] Reward '''\n",
    "        reward = np.log10(self.agent_vars[2])\n",
    "        \n",
    "        # Additional info\n",
    "        ''' [ ] Hypothesis checking '''\n",
    "        info = {}\n",
    "\n",
    "        if self.t >= self.time_limit:\n",
    "            info[\"Truncated\"] = True# \"End of Episode\"\n",
    "            return observations(*np.ravel(self.agent_vars)),\\\n",
    "                    reward, False, True, info\n",
    "        else:\n",
    "            return observations(*np.ravel(self.agent_vars)),\\\n",
    "                    reward, False, False, info\n",
    "\n",
    "    def render(self, seed = 0):\n",
    "        if self.render_mode == 'data':\n",
    "            return self.data\n",
    "        elif self.render_mode == 'plot':\n",
    "            raise NotImplementedError()\n",
    "        else:\n",
    "            raise NotImplementedError()\n",
    "\n",
    "    def close(self):\n",
    "        pass"
   ]
  },
  {
   "cell_type": "code",
   "execution_count": 13,
   "metadata": {},
   "outputs": [
    {
     "name": "stderr",
     "output_type": "stream",
     "text": [
      "c:\\ProgramData\\anaconda3\\envs\\Inv1\\Lib\\site-packages\\stable_baselines3\\common\\env_checker.py:453: UserWarning: We recommend you to use a symmetric and normalized Box action space (range=[-1, 1]) cf. https://stable-baselines3.readthedocs.io/en/master/guide/rl_tips.html\n",
      "  warnings.warn(\n"
     ]
    }
   ],
   "source": [
    "env = Bubble(n_ondas=2)\n",
    "# If the environment don't follow the interface, an error will be thrown\n",
    "check_env(env, warn=True)"
   ]
  },
  {
   "cell_type": "code",
   "execution_count": 14,
   "metadata": {},
   "outputs": [],
   "source": [
    "model = sb.PPO('MlpPolicy', env,\n",
    "               n_steps = 1024, batch_size = 64)"
   ]
  },
  {
   "cell_type": "code",
   "execution_count": 18,
   "metadata": {},
   "outputs": [
    {
     "data": {
      "text/plain": [
       "<stable_baselines3.ppo.ppo.PPO at 0x17789385e80>"
      ]
     },
     "execution_count": 18,
     "metadata": {},
     "output_type": "execute_result"
    }
   ],
   "source": [
    "model.learn(total_timesteps = int(1e5))"
   ]
  },
  {
   "cell_type": "code",
   "execution_count": 21,
   "metadata": {},
   "outputs": [
    {
     "data": {
      "text/plain": [
       "(1024, 10)"
      ]
     },
     "execution_count": 21,
     "metadata": {},
     "output_type": "execute_result"
    }
   ],
   "source": [
    "model.n_steps, model.n_epochs"
   ]
  },
  {
   "cell_type": "code",
   "execution_count": 19,
   "metadata": {},
   "outputs": [
    {
     "name": "stderr",
     "output_type": "stream",
     "text": [
      "c:\\ProgramData\\anaconda3\\envs\\Inv1\\Lib\\site-packages\\gymnasium\\spaces\\box.py:130: UserWarning: \u001b[33mWARN: Box bound precision lowered by casting to float32\u001b[0m\n",
      "  gym.logger.warn(f\"Box bound precision lowered by casting to {self.dtype}\")\n"
     ]
    },
    {
     "name": "stdout",
     "output_type": "stream",
     "text": [
      "10001 {'Truncated': True}\n"
     ]
    }
   ],
   "source": [
    "single_env = Bubble(n_ondas=2, render_mode = 'data')\n",
    "obs, _ = single_env.reset()\n",
    "        \n",
    "for step in range(20000):\n",
    "    action, _ = model.predict(obs, deterministic=True)\n",
    "    obs, reward, terminated, truncated, info = single_env.step(action)\n",
    "    #print(\"Step {}\".format(step + 1), \"\\t\", \"Action: \", action, \"\\t\", \"reward=\", reward)\n",
    "    if terminated or truncated:\n",
    "        # Note that the VecEnv resets automatically\n",
    "        # when a done signal is encountered\n",
    "        print(step+1, info)\n",
    "        break\n",
    "\n",
    "data = single_env.render()"
   ]
  },
  {
   "cell_type": "code",
   "execution_count": 20,
   "metadata": {},
   "outputs": [
    {
     "data": {
      "text/plain": [
       "[<matplotlib.lines.Line2D at 0x177a18b7390>]"
      ]
     },
     "execution_count": 20,
     "metadata": {},
     "output_type": "execute_result"
    },
    {
     "data": {
      "image/png": "[encoded data removed]",
      "text/plain": [
       "<Figure size 960x720 with 4 Axes>"
      ]
     },
     "metadata": {},
     "output_type": "display_data"
    }
   ],
   "source": [
    "matplotlib.rcParams['axes.labelsize'] = 15\n",
    "variables = [r\"$R$ [m]\", r\"$\\dot R$ [m/s]\", r\"$Temp$ [K]\"]\n",
    "\n",
    "fig, ax = plt.subplots(4, sharex= True, figsize = (8,6), dpi = 120, tight_layout = True)\n",
    "\n",
    "for i in range(3):\n",
    "    ax[i].plot(data['t'], data['y'][i])\n",
    "    ax[i].set_ylabel(variables[i])\n",
    "\n",
    "ax[-1].set_xlabel(\"$t$ [s]\")\n",
    "\n",
    "dt = 1e-5\n",
    "t =  [np.linspace((i-1)*dt, i*dt, 100) for i in range(1,len(data['actions']))]\n",
    "psdots = [ps(t[i-1], *data['actions'][i]) for i in range(1,len(data['actions']))]\n",
    "\n",
    "ax[3].set_ylabel(r\"P acustica [atm]\")\n",
    "ax[3].plot(np.ravel(t), np.ravel(psdots)/patm)"
   ]
  }
 ],
 "metadata": {
  "kernelspec": {
   "display_name": "Inv1",
   "language": "python",
   "name": "python3"
  },
  "language_info": {
   "codemirror_mode": {
    "name": "ipython",
    "version": 3
   },
   "file_extension": ".py",
   "mimetype": "text/x-python",
   "name": "python",
   "nbconvert_exporter": "python",
   "pygments_lexer": "ipython3",
   "version": "3.13.1"
  }
 },
 "nbformat": 4,
 "nbformat_minor": 2
}
